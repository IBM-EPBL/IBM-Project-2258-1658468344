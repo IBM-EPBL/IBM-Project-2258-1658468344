{
 "cells": [
  {
   "cell_type": "code",
   "execution_count": null,
   "id": "49e9b6a2",
   "metadata": {},
   "outputs": [],
   "source": [
    "#API Calling"
   ]
  },
  {
   "cell_type": "code",
   "execution_count": 3,
   "id": "334e8ed7",
   "metadata": {},
   "outputs": [],
   "source": [
    "import requests"
   ]
  },
  {
   "cell_type": "code",
   "execution_count": 4,
   "id": "72ec62ba",
   "metadata": {},
   "outputs": [],
   "source": [
    "features=[[1, 0, 0, 0, 0, 3510, 0, 76, 360, 0, 2]]"
   ]
  },
  {
   "cell_type": "code",
   "execution_count": 5,
   "id": "232eb3d5",
   "metadata": {},
   "outputs": [
    {
     "name": "stdout",
     "output_type": "stream",
     "text": [
      "Scoring response\n",
      "0\n"
     ]
    }
   ],
   "source": [
    "API_KEY = \"a1Ri3V6f6RR0LyqdgU7flGIc0jfJaBeZ_Cqq34bQN4v6\"\n",
    "token_response = requests.post('https://iam.cloud.ibm.com/identity/token', data={\"apikey\":\n",
    "API_KEY, \"grant_type\": 'urn:ibm:params:oauth:grant-type:apikey'})\n",
    "mltoken = token_response.json()[\"access_token\"]\n",
    "header = {'Content-Type': 'application/json', 'Authorization': 'Bearer ' + mltoken}\n",
    "\n",
    "# NOTE: manually define and pass the array(s) of values to be scored in the next line\n",
    "payload_scoring = {\"input_data\": [{\"field\": [[\"gender\",\"married\",\"depend\",\"education\",\"self_emp\",\"applicant_income\",\"co_income\",\"loan_amount\",\"loan_term\",\"credit_history\",\"property_area\"]], \"values\": features}]}\n",
    "\n",
    "response_scoring = requests.post('https://us-south.ml.cloud.ibm.com/ml/v4/deployments/f4c91128-dd2d-440c-85da-ab27eb9a0944/predictions?version=2022-11-15', json=payload_scoring,\n",
    "headers={'Authorization': 'Bearer ' + mltoken})\n",
    "print(\"Scoring response\")\n",
    "pred=response_scoring.json()\n",
    "prediction=pred['predictions'][0]['values'][0][0]\n",
    "print(prediction)"
   ]
  }
 ],
 "metadata": {
  "kernelspec": {
   "display_name": "Python 3 (ipykernel)",
   "language": "python",
   "name": "python3"
  },
  "language_info": {
   "codemirror_mode": {
    "name": "ipython",
    "version": 3
   },
   "file_extension": ".py",
   "mimetype": "text/x-python",
   "name": "python",
   "nbconvert_exporter": "python",
   "pygments_lexer": "ipython3",
   "version": "3.9.7"
  }
 },
 "nbformat": 4,
 "nbformat_minor": 5
}
